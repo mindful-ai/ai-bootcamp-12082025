{
 "cells": [
  {
   "cell_type": "code",
   "execution_count": 68,
   "id": "e0a3d43c-1fb6-438f-b7a4-a1d0554f4261",
   "metadata": {},
   "outputs": [],
   "source": [
    "class Student(object):\n",
    "\n",
    "    nStudents = 0\n",
    "    \n",
    "    # Attributes \n",
    "    def __init__(self, name, age, grade):\n",
    "        self.name = name\n",
    "        self.age = age\n",
    "        self.grade = grade\n",
    "        self.marks = {'phy':0, 'chem':0, 'math':0}\n",
    "        self.avg = 0\n",
    "        \n",
    "    # Methods\n",
    "    def printReport(self):\n",
    "        print(\"OBJECT REFERENCE -> \", self)\n",
    "        print(\"--------------------------------------------\")\n",
    "        print(f\"NAME    -> {self.name}\")\n",
    "        print(f\"AGE     -> {self.age}\")\n",
    "        print(\"--------------------------------------------\")\n",
    "        print(\"{0:10} | {1:4}\".format(\"SUBJECT\", \"MARKS\"))\n",
    "        print(\"--------------------------------------------\")\n",
    "        print(\"{0:10} | {1:4}\".format(\"PHYSICS\", self.marks['phy']))\n",
    "        print(\"{0:10} | {1:4}\".format(\"CHEMISTRY\", self.marks['chem']))\n",
    "        print(\"{0:10} | {1:4}\".format(\"MATHS\", self.marks['math']))\n",
    "        print(\"--------------------------------------------\")\n",
    "        print(f\"AVERAGE {self.avg}\")\n",
    "\n",
    "    def calcAverage(self):\n",
    "        self.avg = sum(self.marks.values())/len(self.marks.values())\n",
    "\n",
    "    def setMarks(self, subject, marks):\n",
    "        if(subject in self.marks.keys()):\n",
    "            self.marks[subject] = marks\n",
    "        self.calcAverage()\n",
    "\n",
    "    def getMarks(self, subject):\n",
    "        if(subject in self.marks.keys()):\n",
    "            return self.marks[subject]\n",
    "\n",
    "    def printInfo():\n",
    "        print(\"Student of class 10\")\n",
    "\n"
   ]
  },
  {
   "cell_type": "code",
   "execution_count": 70,
   "id": "b2061120-33ce-4b53-bf29-dd46d4877eb4",
   "metadata": {},
   "outputs": [],
   "source": [
    "s = Student(\"Anil\", 16, 10)"
   ]
  },
  {
   "cell_type": "code",
   "execution_count": 72,
   "id": "c0362d76-af1d-49e4-9f52-0dd10ef53d76",
   "metadata": {},
   "outputs": [
    {
     "data": {
      "text/plain": [
       "<__main__.Student at 0x298481ff290>"
      ]
     },
     "execution_count": 72,
     "metadata": {},
     "output_type": "execute_result"
    }
   ],
   "source": [
    "s"
   ]
  },
  {
   "cell_type": "code",
   "execution_count": 74,
   "id": "e175bd44-5379-4bb9-a639-d6273ea2e538",
   "metadata": {},
   "outputs": [
    {
     "name": "stdout",
     "output_type": "stream",
     "text": [
      "OBJECT REFERENCE ->  <__main__.Student object at 0x00000298481FF290>\n",
      "--------------------------------------------\n",
      "NAME    -> Anil\n",
      "AGE     -> 16\n",
      "--------------------------------------------\n",
      "SUBJECT    | MARKS\n",
      "--------------------------------------------\n",
      "PHYSICS    |    0\n",
      "CHEMISTRY  |    0\n",
      "MATHS      |    0\n",
      "--------------------------------------------\n",
      "AVERAGE 0\n"
     ]
    }
   ],
   "source": [
    "s.printReport()"
   ]
  },
  {
   "cell_type": "code",
   "execution_count": 76,
   "id": "e872af00-ecad-4297-b45c-c5bd13d29bc4",
   "metadata": {},
   "outputs": [],
   "source": [
    "s.setMarks('phy', 99)\n",
    "s.setMarks('chem', 98)\n",
    "s.setMarks('math', 100)"
   ]
  },
  {
   "cell_type": "code",
   "execution_count": 78,
   "id": "9425d5fd-0349-4415-928c-a85c71617537",
   "metadata": {},
   "outputs": [
    {
     "name": "stdout",
     "output_type": "stream",
     "text": [
      "OBJECT REFERENCE ->  <__main__.Student object at 0x00000298481FF290>\n",
      "--------------------------------------------\n",
      "NAME    -> Anil\n",
      "AGE     -> 16\n",
      "--------------------------------------------\n",
      "SUBJECT    | MARKS\n",
      "--------------------------------------------\n",
      "PHYSICS    |   99\n",
      "CHEMISTRY  |   98\n",
      "MATHS      |  100\n",
      "--------------------------------------------\n",
      "AVERAGE 99.0\n"
     ]
    }
   ],
   "source": [
    "s.printReport()"
   ]
  },
  {
   "cell_type": "code",
   "execution_count": 80,
   "id": "78f4a4a3-1fda-4787-873c-4eb2b325bda6",
   "metadata": {},
   "outputs": [],
   "source": [
    "class extStudent(Student):\n",
    "    pass"
   ]
  },
  {
   "cell_type": "code",
   "execution_count": 82,
   "id": "3d55e8a9-bb6e-4226-944a-501bc1502ee5",
   "metadata": {},
   "outputs": [],
   "source": [
    "s1 = extStudent(\"Anil\", 16, 10)"
   ]
  },
  {
   "cell_type": "code",
   "execution_count": 84,
   "id": "e093e4ea-163d-42fd-9f9f-b64a5697474b",
   "metadata": {},
   "outputs": [
    {
     "name": "stdout",
     "output_type": "stream",
     "text": [
      "OBJECT REFERENCE ->  <__main__.extStudent object at 0x00000298481FC380>\n",
      "--------------------------------------------\n",
      "NAME    -> Anil\n",
      "AGE     -> 16\n",
      "--------------------------------------------\n",
      "SUBJECT    | MARKS\n",
      "--------------------------------------------\n",
      "PHYSICS    |    0\n",
      "CHEMISTRY  |    0\n",
      "MATHS      |    0\n",
      "--------------------------------------------\n",
      "AVERAGE 0\n"
     ]
    }
   ],
   "source": [
    "s1.printReport()"
   ]
  },
  {
   "cell_type": "code",
   "execution_count": 102,
   "id": "7cfc416e-1c31-4320-b006-01b658415d95",
   "metadata": {},
   "outputs": [],
   "source": [
    "class newStudent(Student):\n",
    "\n",
    "    # constructor\n",
    "    def __init__(self, name, age, grade, hobbies = []):\n",
    "        super().__init__(name, age, grade)\n",
    "        self.hobbies = hobbies\n",
    "\n",
    "    # methods\n",
    "    def addHobby(self, hobby):\n",
    "        self.hobbies.append(hobby)\n",
    "\n",
    "    def removeHobby(self, hobby):\n",
    "        if(hobby in self.hobbies):\n",
    "            self.hobbies.remove(hobby)\n",
    "\n",
    "    def printReport(self):\n",
    "        super().printReport()\n",
    "        print(\"--------------------------------------------\")\n",
    "        print('HOBBIES')\n",
    "        for hobby in self.hobbies:\n",
    "            print(hobby, end=', ')\n",
    "        "
   ]
  },
  {
   "cell_type": "code",
   "execution_count": 104,
   "id": "cdfbaab0-ca5b-4767-86ee-0965d58a577f",
   "metadata": {},
   "outputs": [],
   "source": [
    "s = newStudent(\"Anil\", 16, 10)\n",
    "s.setMarks('phy', 99)\n",
    "s.setMarks('chem', 98)\n",
    "s.setMarks('math', 100)\n",
    "s.addHobby('Cricket')\n",
    "s.addHobby('Doom Scrolling')"
   ]
  },
  {
   "cell_type": "code",
   "execution_count": 106,
   "id": "b6c192c2-705b-438e-ab9d-322e888b82e8",
   "metadata": {},
   "outputs": [
    {
     "name": "stdout",
     "output_type": "stream",
     "text": [
      "OBJECT REFERENCE ->  <__main__.newStudent object at 0x0000029849FF3E00>\n",
      "--------------------------------------------\n",
      "NAME    -> Anil\n",
      "AGE     -> 16\n",
      "--------------------------------------------\n",
      "SUBJECT    | MARKS\n",
      "--------------------------------------------\n",
      "PHYSICS    |   99\n",
      "CHEMISTRY  |   98\n",
      "MATHS      |  100\n",
      "--------------------------------------------\n",
      "AVERAGE 99.0\n",
      "--------------------------------------------\n",
      "HOBBIES\n",
      "Cricket, Doom Scrolling, "
     ]
    }
   ],
   "source": [
    "s.printReport()"
   ]
  },
  {
   "cell_type": "code",
   "execution_count": null,
   "id": "08417163-b5c3-4d5e-b0b5-b43d0f78df61",
   "metadata": {},
   "outputs": [],
   "source": []
  },
  {
   "cell_type": "code",
   "execution_count": 109,
   "id": "3745c22a-2903-453e-b7d0-2dc39660096c",
   "metadata": {},
   "outputs": [],
   "source": [
    "a = Student('Anil', 16, 10)\n",
    "b = newStudent('Suni', 16, 10, ['Chess'])"
   ]
  },
  {
   "cell_type": "code",
   "execution_count": 115,
   "id": "8ce4800c-94bb-4b43-88df-5d3c8a40e82f",
   "metadata": {},
   "outputs": [],
   "source": [
    "s = b"
   ]
  },
  {
   "cell_type": "code",
   "execution_count": 117,
   "id": "780d7315-c803-4d1d-84d2-935dc1396bd9",
   "metadata": {},
   "outputs": [
    {
     "name": "stdout",
     "output_type": "stream",
     "text": [
      "OBJECT REFERENCE ->  <__main__.newStudent object at 0x0000029848906C30>\n",
      "--------------------------------------------\n",
      "NAME    -> Suni\n",
      "AGE     -> 16\n",
      "--------------------------------------------\n",
      "SUBJECT    | MARKS\n",
      "--------------------------------------------\n",
      "PHYSICS    |    0\n",
      "CHEMISTRY  |    0\n",
      "MATHS      |    0\n",
      "--------------------------------------------\n",
      "AVERAGE 0\n",
      "--------------------------------------------\n",
      "HOBBIES\n",
      "Chess, "
     ]
    }
   ],
   "source": [
    "s.printReport()"
   ]
  },
  {
   "cell_type": "code",
   "execution_count": null,
   "id": "f0472d58-9493-4c43-9360-bff04719ab3e",
   "metadata": {},
   "outputs": [],
   "source": []
  }
 ],
 "metadata": {
  "kernelspec": {
   "display_name": "Python 3 (ipykernel)",
   "language": "python",
   "name": "python3"
  },
  "language_info": {
   "codemirror_mode": {
    "name": "ipython",
    "version": 3
   },
   "file_extension": ".py",
   "mimetype": "text/x-python",
   "name": "python",
   "nbconvert_exporter": "python",
   "pygments_lexer": "ipython3",
   "version": "3.12.7"
  }
 },
 "nbformat": 4,
 "nbformat_minor": 5
}
