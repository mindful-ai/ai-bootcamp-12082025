{
 "cells": [
  {
   "cell_type": "code",
   "execution_count": 50,
   "id": "e0a3d43c-1fb6-438f-b7a4-a1d0554f4261",
   "metadata": {},
   "outputs": [],
   "source": [
    "class Student(object):\n",
    "\n",
    "    nStudents = 0\n",
    "    \n",
    "    # Attributes \n",
    "    def __init__(self, name, age, grade):\n",
    "        self.name = name\n",
    "        self.age = age\n",
    "        self.grade = grade\n",
    "        self.marks = {'phy':0, 'chem':0, 'math':0}\n",
    "        self.avg = 0\n",
    "        \n",
    "    # Methods\n",
    "    def printReport(self):\n",
    "        print(\"OBJECT REFERENCE -> \", self)\n",
    "        print(\"--------------------------------------------\")\n",
    "        print(f\"NAME    -> {self.name}\")\n",
    "        print(f\"AGE     -> {self.age}\")\n",
    "        print(\"--------------------------------------------\")\n",
    "        print(\"{0:10} | {1:4}\".format(\"SUBJECT\", \"MARKS\"))\n",
    "        print(\"--------------------------------------------\")\n",
    "        print(\"{0:10} | {1:4}\".format(\"PHYSICS\", self.marks['phy']))\n",
    "        print(\"{0:10} | {1:4}\".format(\"CHEMISTRY\", self.marks['chem']))\n",
    "        print(\"{0:10} | {1:4}\".format(\"MATHS\", self.marks['math']))\n",
    "        print(\"--------------------------------------------\")\n",
    "        print(f\"AVERAGE {self.avg}\")\n",
    "\n",
    "    def calcAverage(self):\n",
    "        self.avg = sum(self.marks.values())/len(self.marks.values())\n",
    "\n",
    "    def setMarks(self, subject, marks):\n",
    "        if(subject in self.marks.keys()):\n",
    "            self.marks[subject] = marks\n",
    "        self.calcAverage()\n",
    "\n",
    "    def getMarks(self, subject):\n",
    "        if(subject in self.marks.keys()):\n",
    "            return self.marks[subject]\n",
    "\n",
    "    def printInfo():\n",
    "        print(\"Student of class 10\")\n",
    "\n"
   ]
  },
  {
   "cell_type": "code",
   "execution_count": 52,
   "id": "b2061120-33ce-4b53-bf29-dd46d4877eb4",
   "metadata": {},
   "outputs": [],
   "source": [
    "s = Student(\"Anil\", 16, 10)"
   ]
  },
  {
   "cell_type": "code",
   "execution_count": 54,
   "id": "c0362d76-af1d-49e4-9f52-0dd10ef53d76",
   "metadata": {},
   "outputs": [
    {
     "data": {
      "text/plain": [
       "<__main__.Student at 0x2984735f710>"
      ]
     },
     "execution_count": 54,
     "metadata": {},
     "output_type": "execute_result"
    }
   ],
   "source": [
    "s"
   ]
  },
  {
   "cell_type": "code",
   "execution_count": 56,
   "id": "e175bd44-5379-4bb9-a639-d6273ea2e538",
   "metadata": {},
   "outputs": [
    {
     "name": "stdout",
     "output_type": "stream",
     "text": [
      "OBJECT REFERENCE ->  <__main__.Student object at 0x000002984735F710>\n",
      "--------------------------------------------\n",
      "NAME    -> Anil\n",
      "AGE     -> 16\n",
      "--------------------------------------------\n",
      "SUBJECT    | MARKS\n",
      "--------------------------------------------\n",
      "PHYSICS    |    0\n",
      "CHEMISTRY  |    0\n",
      "MATHS      |    0\n",
      "--------------------------------------------\n",
      "AVERAGE 0\n",
      "\n",
      "\n"
     ]
    }
   ],
   "source": [
    "s.printReport()"
   ]
  },
  {
   "cell_type": "code",
   "execution_count": 58,
   "id": "e872af00-ecad-4297-b45c-c5bd13d29bc4",
   "metadata": {},
   "outputs": [],
   "source": [
    "s.setMarks('phy', 99)\n",
    "s.setMarks('chem', 98)\n",
    "s.setMarks('math', 100)"
   ]
  },
  {
   "cell_type": "code",
   "execution_count": 60,
   "id": "9425d5fd-0349-4415-928c-a85c71617537",
   "metadata": {},
   "outputs": [
    {
     "name": "stdout",
     "output_type": "stream",
     "text": [
      "OBJECT REFERENCE ->  <__main__.Student object at 0x000002984735F710>\n",
      "--------------------------------------------\n",
      "NAME    -> Anil\n",
      "AGE     -> 16\n",
      "--------------------------------------------\n",
      "SUBJECT    | MARKS\n",
      "--------------------------------------------\n",
      "PHYSICS    |   99\n",
      "CHEMISTRY  |   98\n",
      "MATHS      |  100\n",
      "--------------------------------------------\n",
      "AVERAGE 99.0\n",
      "\n",
      "\n"
     ]
    }
   ],
   "source": [
    "s.printReport()"
   ]
  },
  {
   "cell_type": "code",
   "execution_count": 62,
   "id": "78f4a4a3-1fda-4787-873c-4eb2b325bda6",
   "metadata": {},
   "outputs": [],
   "source": [
    "class extStudent(Student):\n",
    "    pass"
   ]
  },
  {
   "cell_type": "code",
   "execution_count": 64,
   "id": "3d55e8a9-bb6e-4226-944a-501bc1502ee5",
   "metadata": {},
   "outputs": [],
   "source": [
    "s1 = extStudent(\"Anil\", 16, 10)"
   ]
  },
  {
   "cell_type": "code",
   "execution_count": 66,
   "id": "e093e4ea-163d-42fd-9f9f-b64a5697474b",
   "metadata": {},
   "outputs": [
    {
     "name": "stdout",
     "output_type": "stream",
     "text": [
      "OBJECT REFERENCE ->  <__main__.extStudent object at 0x0000029849FED280>\n",
      "--------------------------------------------\n",
      "NAME    -> Anil\n",
      "AGE     -> 16\n",
      "--------------------------------------------\n",
      "SUBJECT    | MARKS\n",
      "--------------------------------------------\n",
      "PHYSICS    |    0\n",
      "CHEMISTRY  |    0\n",
      "MATHS      |    0\n",
      "--------------------------------------------\n",
      "AVERAGE 0\n",
      "\n",
      "\n"
     ]
    }
   ],
   "source": [
    "s1.printReport()"
   ]
  },
  {
   "cell_type": "code",
   "execution_count": null,
   "id": "7cfc416e-1c31-4320-b006-01b658415d95",
   "metadata": {},
   "outputs": [],
   "source": [
    "class newStudent(Student):\n",
    "\n",
    "    # constructor\n",
    "    def __init__(self, name, age, grade, hobbies = []):\n",
    "        super().__init__(name, age, grade)\n",
    "        self.hobbies = hobbies\n",
    "\n",
    "    # methods\n",
    "    def addHobby(self, hobby):\n",
    "        self.hobbies.append(hobby)\n",
    "\n",
    "    def removeHobby(self, hobby):\n",
    "        if(hobby in self.hobbies):\n",
    "            self.hobbies.remove(hobby)\n",
    "\n",
    "    def printReport(self):\n",
    "        super.printReport()\n",
    "        print(\"--------------------------------------------\")\n",
    "        print('HOBBIES')\n",
    "        for hobby in self.hobbies):\n",
    "            print(hobby, end=' ')\n",
    "        "
   ]
  }
 ],
 "metadata": {
  "kernelspec": {
   "display_name": "Python 3 (ipykernel)",
   "language": "python",
   "name": "python3"
  },
  "language_info": {
   "codemirror_mode": {
    "name": "ipython",
    "version": 3
   },
   "file_extension": ".py",
   "mimetype": "text/x-python",
   "name": "python",
   "nbconvert_exporter": "python",
   "pygments_lexer": "ipython3",
   "version": "3.12.7"
  }
 },
 "nbformat": 4,
 "nbformat_minor": 5
}
